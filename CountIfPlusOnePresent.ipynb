{
 "cells": [
  {
   "cell_type": "markdown",
   "metadata": {},
   "source": [
    "# Problem Statement\n",
    "Given an integer array arr, count element x such that x + 1 is also in arr.If there're duplicates in arr, count them separately.\n",
    "\n",
    "Example 1: \n",
    "```\n",
    "Input: arr = [1,2,3] \n",
    "Output: 2 \n",
    "Explanation: 1 and 2 are counted cause 2 and 3 are in arr.\n",
    "```\n",
    "\n",
    "Example 2: \n",
    "```\n",
    "Input: arr = [1,1,2] \n",
    "Output: 2 \n",
    "Explanation: 1 counted twice cause 2 is in arr.\n",
    "```\n",
    "Example 3: \n",
    "```\n",
    "Input: arr = [1,1,3,3,5,5,7,7] \n",
    "Output: 0 \n",
    "Explanation: No numbers are counted, cause there's no 2, 4, 6, or 8 in arr.\n",
    "```\n",
    "Example 4: \n",
    "```\n",
    "Input: arr = [1,1,2,2] \n",
    "Output: 2 \n",
    "Explanation: Two 1s are counted cause 2 is in arr.\n",
    "```"
   ]
  },
  {
   "cell_type": "code",
   "execution_count": 5,
   "metadata": {},
   "outputs": [],
   "source": [
    "import timeit"
   ]
  },
  {
   "cell_type": "code",
   "execution_count": 9,
   "metadata": {},
   "outputs": [],
   "source": [
    "arr = [1,2,3] "
   ]
  },
  {
   "cell_type": "code",
   "execution_count": 10,
   "metadata": {},
   "outputs": [
    {
     "name": "stdout",
     "output_type": "stream",
     "text": [
      "Wall time: 0 ns\n",
      "2\n"
     ]
    }
   ],
   "source": [
    "def countPlusOnePresent(arr_in):\n",
    "    set_in = sorted(set(arr_in))\n",
    "    total = 0\n",
    "    plus_one_arr\n",
    "    for idx in range(len(set_in)-1):\n",
    "        if set_in[idx+1]-set_in[idx] == 1:\n",
    "            total += arr_in.count(set_in[idx])\n",
    "    return total\n",
    "    \n",
    "%time count = countPlusOnePresent(arr)\n",
    "print(count)"
   ]
  },
  {
   "cell_type": "code",
   "execution_count": 11,
   "metadata": {},
   "outputs": [
    {
     "name": "stdout",
     "output_type": "stream",
     "text": [
      "Wall time: 0 ns\n",
      "2\n"
     ]
    }
   ],
   "source": [
    "def countPlusOnePresent(arr_in):\n",
    "    set_in = sorted(set(arr_in))\n",
    "    total = 0\n",
    "    plus_one_arr = []\n",
    "    for idx in range(len(set_in)-1):\n",
    "        if set_in[idx+1]-set_in[idx] == 1:\n",
    "            plus_one_arr.append(set_in[idx])\n",
    "    for elem in arr_in:\n",
    "        if elem in plus_one_arr:\n",
    "            total += 1\n",
    "    return total\n",
    "    \n",
    "%time count = countPlusOnePresent(arr)\n",
    "print(count)"
   ]
  },
  {
   "cell_type": "code",
   "execution_count": null,
   "metadata": {},
   "outputs": [],
   "source": []
  }
 ],
 "metadata": {
  "kernelspec": {
   "display_name": "Python 3",
   "language": "python",
   "name": "python3"
  },
  "language_info": {
   "codemirror_mode": {
    "name": "ipython",
    "version": 3
   },
   "file_extension": ".py",
   "mimetype": "text/x-python",
   "name": "python",
   "nbconvert_exporter": "python",
   "pygments_lexer": "ipython3",
   "version": "3.7.7"
  }
 },
 "nbformat": 4,
 "nbformat_minor": 4
}
