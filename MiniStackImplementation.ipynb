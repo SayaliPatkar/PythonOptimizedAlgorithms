{
 "cells": [
  {
   "cell_type": "markdown",
   "metadata": {},
   "source": [
    "# Problem Statement\n",
    "Design a stack that supports push, pop, top, and retrieving the minimum element in constant time.\n",
    "\n",
    "    1. push(x) -- Push element x onto stack.\n",
    "    2. pop() -- Removes the element on top of the stack.\n",
    "    3. top() -- Get the top element.\n",
    "    4. getMin() -- Retrieve the minimum element in the stack.\n",
    " \n",
    "\n",
    "Example 1:\n",
    "```\n",
    "Input\n",
    "[\"MinStack\",\"push\",\"push\",\"push\",\"getMin\",\"pop\",\"top\",\"getMin\"]\n",
    "[[],[-2],[0],[-3],[],[],[],[]]\n",
    "\n",
    "Output\n",
    "[null,null,null,null,-3,null,0,-2]\n",
    "```\n",
    "\n",
    "Explanation\n",
    "```\n",
    "MinStack minStack = new MinStack();\n",
    "minStack.push(-2);\n",
    "minStack.push(0);\n",
    "minStack.push(-3);\n",
    "minStack.getMin(); // return -3\n",
    "minStack.pop();\n",
    "minStack.top();    // return 0\n",
    "minStack.getMin(); // return -2\n",
    "``` \n",
    "\n",
    "Constraints:\n",
    "\n",
    "    Methods pop, top and getMin operations will always be called on non-empty stacks."
   ]
  },
  {
   "cell_type": "code",
   "execution_count": 1,
   "metadata": {},
   "outputs": [],
   "source": [
    "class MinStack:\n",
    "\n",
    "    def __init__(self):\n",
    "        \"\"\"\n",
    "        initialize your data structure here.\n",
    "        \"\"\"\n",
    "        self.data_struct = []\n",
    "\n",
    "    def push(self, x: int) -> None:\n",
    "        self.data_struct.append(x)\n",
    "\n",
    "    def pop(self) -> None:\n",
    "        self.data_struct.pop()\n",
    "\n",
    "    def top(self) -> int:\n",
    "        idx = len(self.data_struct)\n",
    "        return self.data_struct[idx-1]\n",
    "\n",
    "    def getMin(self) -> int:\n",
    "        return min(self.data_struct)\n",
    "        \n"
   ]
  },
  {
   "cell_type": "code",
   "execution_count": 10,
   "metadata": {},
   "outputs": [
    {
     "name": "stdout",
     "output_type": "stream",
     "text": [
      "None\n",
      "None\n",
      "None\n",
      "-3\n",
      "None\n",
      "0\n",
      "-2\n"
     ]
    }
   ],
   "source": [
    "# Your MinStack object will be instantiated and called as such:\n",
    "obj = MinStack()\n",
    "ans = obj.push(-2)\n",
    "print(ans)\n",
    "ans = obj.push(0)\n",
    "print(ans)\n",
    "ans = obj.push(-3)\n",
    "print(ans)\n",
    "ans = obj.getMin()\n",
    "print(ans)\n",
    "ans = obj.pop()\n",
    "print(ans)\n",
    "ans = obj.top()\n",
    "print(ans)\n",
    "ans = obj.getMin()\n",
    "print(ans)"
   ]
  },
  {
   "cell_type": "code",
   "execution_count": null,
   "metadata": {},
   "outputs": [],
   "source": []
  }
 ],
 "metadata": {
  "kernelspec": {
   "display_name": "Python 3",
   "language": "python",
   "name": "python3"
  },
  "language_info": {
   "codemirror_mode": {
    "name": "ipython",
    "version": 3
   },
   "file_extension": ".py",
   "mimetype": "text/x-python",
   "name": "python",
   "nbconvert_exporter": "python",
   "pygments_lexer": "ipython3",
   "version": "3.7.7"
  }
 },
 "nbformat": 4,
 "nbformat_minor": 4
}
