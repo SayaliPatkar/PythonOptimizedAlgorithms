{
 "cells": [
  {
   "cell_type": "markdown",
   "metadata": {},
   "source": [
    "# Problem Statement\n",
    "Given two strings S and T, return if they are equal when both are typed into empty text editors. # means a backspace character.\n",
    "\n",
    "Note that after backspacing an empty text, the text will continue empty.\n",
    "\n",
    "Example 1:\n",
    "```\n",
    "Input: S = \"ab#c\", T = \"ad#c\"\n",
    "Output: true\n",
    "Explanation: Both S and T become \"ac\".\n",
    "```\n",
    "Example 2:\n",
    "```\n",
    "Input: S = \"ab##\", T = \"c#d#\"\n",
    "Output: true\n",
    "Explanation: Both S and T become \"\".\n",
    "```\n",
    "Example 3:\n",
    "```\n",
    "Input: S = \"a##c\", T = \"#a#c\"\n",
    "Output: true\n",
    "Explanation: Both S and T become \"c\".#\n",
    "```\n",
    "Example 4:\n",
    "```\n",
    "Input: S = \"a#c\", T = \"b\"\n",
    "Output: false\n",
    "Explanation: S becomes \"c\" while T becomes \"b\".\n",
    "```\n",
    "Note:\n",
    "\n",
    "    1 <= S.length <= 200\n",
    "    1 <= T.length <= 200\n",
    "    S and T only contain lowercase letters and '#' characters.\n",
    "Follow up:\n",
    "\n",
    "    Can you solve it in O(N) time and O(1) space?"
   ]
  },
  {
   "cell_type": "code",
   "execution_count": 1,
   "metadata": {},
   "outputs": [
    {
     "name": "stdout",
     "output_type": "stream",
     "text": [
      "True\n"
     ]
    }
   ],
   "source": [
    "def backspaceCompare(S, T):\n",
    "    mod_s = removeHash(S)\n",
    "    mod_t = removeHash(T)\n",
    "    if mod_s == mod_t:\n",
    "        return True\n",
    "    return False\n",
    "            \n",
    "            \n",
    "            \n",
    "def removeHash(S):\n",
    "    mod_s = []\n",
    "    for num in range(len(S)):\n",
    "        if S[num] != '#':\n",
    "            mod_s.append(S[num])\n",
    "        elif len(mod_s) != 0:\n",
    "            mod_s.pop()\n",
    "    return mod_s\n",
    "\n",
    "s_1 = \"abc#de#f#ghi#jklmn#op#\"\n",
    "s_2 = \"abd#dff##ghi#l#jklmo#o\"\n",
    "result = backspaceCompare(s_1, s_2)\n",
    "print(result)"
   ]
  },
  {
   "cell_type": "code",
   "execution_count": null,
   "metadata": {},
   "outputs": [],
   "source": []
  }
 ],
 "metadata": {
  "kernelspec": {
   "display_name": "Python 3",
   "language": "python",
   "name": "python3"
  },
  "language_info": {
   "codemirror_mode": {
    "name": "ipython",
    "version": 3
   },
   "file_extension": ".py",
   "mimetype": "text/x-python",
   "name": "python",
   "nbconvert_exporter": "python",
   "pygments_lexer": "ipython3",
   "version": "3.7.7"
  }
 },
 "nbformat": 4,
 "nbformat_minor": 4
}
