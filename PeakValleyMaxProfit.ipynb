{
 "cells": [
  {
   "cell_type": "markdown",
   "metadata": {},
   "source": [
    "# Problem Statement\n",
    "Say you have an array prices for which the ith element is the price of a given stock on day i.\n",
    "\n",
    "Design an algorithm to find the maximum profit. You may complete as many transactions as you like (i.e., buy one and sell one share of the stock multiple times).\n",
    "\n",
    "Note: You may not engage in multiple transactions at the same time (i.e., you must sell the stock before you buy again).\n",
    "\n",
    "Example 1:\n",
    "```\n",
    "Input: [7,1,5,3,6,4]\n",
    "Output: 7\n",
    "Explanation: Buy on day 2 (price = 1) and sell on day 3 (price = 5), profit = 5-1 = 4.\n",
    "             Then buy on day 4 (price = 3) and sell on day 5 (price = 6), profit = 6-3 = 3.\n",
    "```\n",
    "\n",
    "Example 2:\n",
    "```\n",
    "Input: [1,2,3,4,5]\n",
    "Output: 4\n",
    "Explanation: Buy on day 1 (price = 1) and sell on day 5 (price = 5), profit = 5-1 = 4.\n",
    "             Note that you cannot buy on day 1, buy on day 2 and sell them later, as you are\n",
    "             engaging multiple transactions at the same time. You must sell before buying again.\n",
    "```\n",
    "\n",
    "Example 3:\n",
    "```\n",
    "Input: [7,6,4,3,1]\n",
    "Output: 0\n",
    "Explanation: In this case, no transaction is done, i.e. max profit = 0.\n",
    "```"
   ]
  },
  {
   "cell_type": "code",
   "execution_count": 21,
   "metadata": {},
   "outputs": [],
   "source": [
    "import timeit"
   ]
  },
  {
   "cell_type": "code",
   "execution_count": 28,
   "metadata": {},
   "outputs": [],
   "source": [
    "arr = [7,1,5,3,6,4,7,1,5,3,6,4,7,1,5,3,6,4,7,1,5,3,6,4,7,1,5,3,6,4,7,1,5,3,6,4,7,1,5,3,6,4,7,1,5,3,6,4,7,1,5,3,6,4,7,1,5,3,6,4,7,1,5,3,6,4,7,1,5,3,6,4,7,1,5,3,6,4,7,1,5,3,6,4,7,1,5,3,6,4,7,1,5,3,6,4,7,1,5,3,6,4,7,1,5,3,6,4,7,1,5,3,6,4,7,1,5,3,6,4,7,1,5,3,6,4,7,1,5,3,6,4,7,1,5,3,6,4,7,1,5,3,6,4,7,1,5,3,6,4,7,1,5,3,6,4,7,1,5,3,6,4,7,1,5,3,6,4,7,1,5,3,6,4,7,1,5,3,6,4,7,1,5,3,6,4,7,1,5,3,6,4,7,1,5,3,6,4,7,1,5,3,6,4,7,1,5,3,6,4,7,1,5,3,6,4,7,1,5,3,6,4,7,1,5,3,6,4,7,1,5,3,6,4,7,1,5,3,6,4,7,1,5,3,6,4,7,1,5,3,6,4,7,1,5,3,6,4,7,1,5,3,6,4,7,1,5,3,6,4,7,1,5,3,6,4,7,1,5,3,6,4,7,1,5,3,6,4,7,1,5,3,6,4,7,1,5,3,6,4,7,1,5,3,6,4,7,1,5,3,6,4,7,1,5,3,6,4,7,1,5,3,6,4,7,1,5,3,6,4,7,1,5,3,6,4,7,1,5,3,6,4,7,1,5,3,6,4,7,1,5,3,6,4,7,1,5,3,6,4,7,1,5,3,6,4,7,1,5,3,6,4,7,1,5,3,6,4,7,1,5,3,6,4,7,1,5,3,6,4,7,1,5,3,6,4,7,1,5,3,6,4,7,1,5,3,6,4,7,1,5,3,6,4,7,1,5,3,6,4,7,1,5,3,6,4,7,1,5,3,6,4,7,1,5,3,6,4,7,1,5,3,6,4,7,1,5,3,6,4,7,1,5,3,6,4,7,1,5,3,6,4,7,1,5,3,6,4,7,1,5,3,6,4,7,1,5,3,6,4,7,1,5,3,6,4,7,1,5,3,6,4,7,1,5,3,6,4,7,1,5,3,6,4,7,1,5,3,6,4,7,1,5,3,6,4,7,1,5,3,6,4,7,1,5,3,6,4,7,1,5,3,6,4,7,1,5,3,6,4,7,1,5,3,6,4,7,1,5,3,6,4,7,1,5,3,6,4,7,1,5,3,6,4,7,1,5,3,6,4,7,1,5,3,6,4,7,1,5,3,6,4,7,1,5,3,6,4,7,1,5,3,6,4,7,1,5,3,6,4,7,1,5,3,6,4,7,1,5,3,6,4,7,1,5,3,6,4,7,1,5,3,6,4,7,1,5,3,6,4,7,1,5,3,6,4,7,1,5,3,6,4,7,1,5,3,6,4,7,1,5,3,6,4,7,1,5,3,6,4,7,1,5,3,6,4,7,1,5,3,6,4,7,1,5,3,6,4,7,1,5,3,6,4,7,1,5,3,6,4,7,1,5,3,6,4,7,1,5,3,6,4,7,1,5,3,6,4,7,1,5,3,6,4,7,1,5,3,6,4,7,1,5,3,6,4,7,1,5,3,6,4,7,1,5,3,6,4,7,1,5,3,6,4,7,1,5,3,6,4,7,1,5,3,6,4,7,1,5,3,6,4,7,1,5,3,6,4,7,1,5,3,6,4,7,1,5,3,6,4,7,1,5,3,6,4,7,1,5,3,6,4,7,1,5,3,6,4,7,1,5,3,6,4,7,1,5,3,6,4,7,1,5,3,6,4,7,1,5,3,6,4,7,1,5,3,6,4,7,1,5,3,6,4,7,1,5,3,6,4,7,1,5,3,6,4,7,1,5,3,6,4,7,1,5,3,6,4,7,1,5,3,6,4,7,1,5,3,6,4,7,1,5,3,6,4,7,1,5,3,6,4,7,1,5,3,6,4,7,1,5,3,6,4,7,1,5,3,6,4,7,1,5,3,6,4,7,1,5,3,6,4,7,1,5,3,6,4,7,1,5,3,6,4,7,1,5,3,6,4,7,1,5,3,6,4,7,1,5,3,6,4,7,1,5,3,6,4,7,1,5,3,6,4,7,1,5,3,6,4,7,1,5,3,6,4,7,1,5,3,6,4,7,1,5,3,6,4,7,1,5,3,6,4,7,1,5,3,6,4,7,1,5,3,6,4,7,1,5,3,6,4,7,1,5,3,6,4,7,1,5,3,6,4,7,1,5,3,6,4,7,1,5,3,6,4,7,1,5,3,6,4,7,1,5,3,6,4,7,1,5,3,6,4,7,1,5,3,6,4,7,1,5,3,6,4,7,1,5,3,6,4,7,1,5,3,6,4,7,1,5,3,6,4,7,1,5,3,6,4,7,1,5,3,6,4,7,1,5,3,6,4,7,1,5,3,6,4,7,1,5,3,6,4,7,1,5,3,6,4,7,1,5,3,6,4,7,1,5,3,6,4,7,1,5,3,6,4,7,1,5,3,6,4,7,1,5,3,6,4,7,1,5,3,6,4,7,1,5,3,6,4,7,1,5,3,6,4,7,1,5,3,6,4,7,1,5,3,6,4,7,1,5,3,6,4,7,1,5,3,6,4,7,1,5,3,6,4,7,1,5,3,6,4,7,1,5,3,6,4,7,1,5,3,6,4,7,1,5,3,6,4,7,1,5,3,6,4,7,1,5,3,6,4,7,1,5,3,6,4,7,1,5,3,6,4,7,1,5,3,6,4,7,1,5,3,6,4,7,1,5,3,6,4,7,1,5,3,6,4,7,1,5,3,6,4,7,1,5,3,6,4,7,1,5,3,6,4,7,1,5,3,6,4,7,1,5,3,6,4,7,1,5,3,6,4,7,1,5,3,6,4,7,1,5,3,6,4,7,1,5,3,6,4,7,1,5,3,6,4,7,1,5,3,6,4,7,1,5,3,6,4,7,1,5,3,6,4,7,1,5,3,6,4,7,1,5,3,6,4,7,1,5,3,6,4,7,1,5,3,6,4,7,1,5,3,6,4,7,1,5,3,6,4,7,1,5,3,6,4,7,1,5,3,6,4,7,1,5,3,6,4,7,1,5,3,6,4,7,1,5,3,6,4,7,1,5,3,6,4,7,1,5,3,6,4,7,1,5,3,6,4,7,1,5,3,6,4,7,1,5,3,6,4,7,1,5,3,6,4,7,1,5,3,6,4,7,1,5,3,6,4,7,1,5,3,6,4,7,1,5,3,6,4,7,1,5,3,6,4,7,1,5,3,6,4,7,1,5,3,6,4,7,1,5,3,6,4,7,1,5,3,6,4,7,1,5,3,6,4,7,1,5,3,6,4,7,1,5,3,6,4,7,1,5,3,6,4,7,1,5,3,6,4,7,1,5,3,6,4,7,1,5,3,6,4,7,1,5,3,6,4,7,1,5,3,6,4,7,1,5,3,6,4,7,1,5,3,6,4,7,1,5,3,6,4,7,1,5,3,6,4,7,1,5,3,6,4,7,1,5,3,6,4,7,1,5,3,6,4,7,1,5,3,6,4,7,1,5,3,6,4,7,1,5,3,6,4,7,1,5,3,6,4,7,1,5,3,6,4,7,1,5,3,6,4,7,1,5,3,6,4,7,1,5,3,6,4,7,1,5,3,6,4,7,1,5,3,6,4,7,1,5,3,6,4,7,1,5,3,6,4,7,1,5,3,6,4,7,1,5,3,6,4,7,1,5,3,6,4,7,1,5,3,6,4,7,1,5,3,6,4,7,1,5,3,6,4,7,1,5,3,6,4,7,1,5,3,6,4,7,1,5,3,6,4,7,1,5,3,6,4,7,1,5,3,6,4,7,1,5,3,6,4,7,1,5,3,6,4,7,1,5,3,6,4,7,1,5,3,6,4,7,1,5,3,6,4,7,1,5,3,6,4,7,1,5,3,6,4,7,1,5,3,6,4,7,1,5,3,6,4,7,1,5,3,6,4,7,1,5,3,6,4,7,1,5,3,6,4,7,1,5,3,6,4,7,1,5,3,6,4,7,1,5,3,6,4,7,1,5,3,6,4,7,1,5,3,6,4,7,1,5,3,6,4,7,1,5,3,6,4,7,1,5,3,6,4,7,1,5,3,6,4,7,1,5,3,6,4,7,1,5,3,6,4,7,1,5,3,6,4,7,1,5,3,6,4,7,1,5,3,6,4,7,1,5,3,6,4,7,1,5,3,6,4,7,1,5,3,6,4,7,1,5,3,6,4,7,1,5,3,6,4,7,1,5,3,6,4,7,1,5,3,6,4,7,1,5,3,6,4,7,1,5,3,6,4,7,1,5,3,6,4,7,1,5,3,6,4,7,1,5,3,6,4,7,1,5,3,6,4,7,1,5,3,6,4,7,1,5,3,6,4,7,1,5,3,6,4,7,1,5,3,6,4,7,1,5,3,6,4,7,1,5,3,6,4,7,1,5,3,6,4,7,1,5,3,6,4,7,1,5,3,6,4]"
   ]
  },
  {
   "cell_type": "markdown",
   "metadata": {},
   "source": [
    "### PEAK VALLEY APPROACH\n",
    "\n",
    "    1. Valley : valley is lowest point after continuous descent.\n",
    "    2. Peak : peak is highest point after continuous ascend\n",
    "    3. Only peak followed by valley is relevant for profit\n",
    "    \n",
    "Linear time complexity O(n) inspite of nested loops as increment is not nested"
   ]
  },
  {
   "cell_type": "code",
   "execution_count": 29,
   "metadata": {},
   "outputs": [
    {
     "name": "stdout",
     "output_type": "stream",
     "text": [
      "Wall time: 997 µs\n",
      "3357\n"
     ]
    }
   ],
   "source": [
    "def maxProfit(prices):\n",
    "    profit = 0\n",
    "    ptr = 0\n",
    "    valley = prices[0]\n",
    "    peak = prices[0]\n",
    "    len_pri = len(prices)\n",
    "    while ptr < len_pri-1:\n",
    "        while ptr < len_pri-1 and prices[ptr]>prices[ptr+1]:\n",
    "            ptr += 1\n",
    "        valley = prices[ptr]\n",
    "                \n",
    "        while ptr < len_pri-1 and prices[ptr]<prices[ptr+1]:\n",
    "            ptr += 1\n",
    "        peak = prices[ptr]    \n",
    "        if peak-valley > 0:\n",
    "            profit += peak - valley\n",
    "    return profit\n",
    "\n",
    "%time profit = maxProfit(arr)\n",
    "print(profit)"
   ]
  },
  {
   "cell_type": "markdown",
   "metadata": {},
   "source": [
    "### MOST ELEGANT APPROACH\n",
    "\n",
    "    1. Instead of looking for every peak and valley, we can simply go on adding the profit obtained from every consecutive transaction\n",
    "    2. In the end, we will be using the peaks and valleys effectively, \n",
    "    3. However we need not track descend of valley as valley do not really attribute to any profit as we traverse\n",
    "    4. As we climb up the peak, accumulated smaller profits  =  peak - valley\n",
    "   \n",
    "Linear time complexity O(n) "
   ]
  },
  {
   "cell_type": "code",
   "execution_count": 30,
   "metadata": {},
   "outputs": [
    {
     "name": "stdout",
     "output_type": "stream",
     "text": [
      "Wall time: 0 ns\n",
      "3357\n"
     ]
    }
   ],
   "source": [
    "def maxProfit(prices):\n",
    "    profit = 0\n",
    "        \n",
    "    for idx in range(1,len(prices)):\n",
    "        if prices[idx]>prices[idx-1]:\n",
    "            profit += prices[idx] - prices[idx-1]\n",
    "    return profit\n",
    "\n",
    "%time profit = maxProfit(arr)\n",
    "print(profit)"
   ]
  },
  {
   "cell_type": "code",
   "execution_count": null,
   "metadata": {},
   "outputs": [],
   "source": []
  }
 ],
 "metadata": {
  "kernelspec": {
   "display_name": "Python 3",
   "language": "python",
   "name": "python3"
  },
  "language_info": {
   "codemirror_mode": {
    "name": "ipython",
    "version": 3
   },
   "file_extension": ".py",
   "mimetype": "text/x-python",
   "name": "python",
   "nbconvert_exporter": "python",
   "pygments_lexer": "ipython3",
   "version": "3.7.7"
  }
 },
 "nbformat": 4,
 "nbformat_minor": 4
}
