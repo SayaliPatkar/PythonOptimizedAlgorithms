{
 "cells": [
  {
   "cell_type": "markdown",
   "metadata": {},
   "source": [
    "# Problem Statement\n",
    "Given a non-empty, singly linked list with head node head, return a middle node of linked list.\n",
    "\n",
    "If there are two middle nodes, return the second middle node.\n",
    "\n",
    "Example 1:\n",
    "```\n",
    "Input: [1,2,3,4,5]\n",
    "Output: Node 3 from this list (Serialization: [3,4,5])\n",
    "The returned node has value 3.  (The judge's serialization of this node is [3,4,5]).\n",
    "Note that we returned a ListNode object ans, such that:\n",
    "ans.val = 3, ans.next.val = 4, ans.next.next.val = 5, and ans.next.next.next = NULL.\n",
    "```\n",
    "                                 \n",
    "Example 2:\n",
    "```\n",
    "Input: [1,2,3,4,5,6]\n",
    "Output: Node 4 from this list (Serialization: [4,5,6])\n",
    "Since the list has two middle nodes with values 3 and 4, we return the second one.\n",
    "```\n",
    "                                \n",
    "Note:\n",
    "\n",
    "The number of nodes in the given list will be between 1 and 100.\n"
   ]
  },
  {
   "cell_type": "code",
   "execution_count": 90,
   "metadata": {},
   "outputs": [
    {
     "name": "stdout",
     "output_type": "stream",
     "text": [
      "[1, 2, 3, 4, 5, 6, 7, 8, 9, 10]\n"
     ]
    }
   ],
   "source": [
    "#Definition for singly-linked list.\n",
    "class Node:\n",
    "    def __init__(self, val):\n",
    "        \"constructor to initiate this object\"\n",
    "        # store data\n",
    "        self.val = val\n",
    "        # store reference (next item)\n",
    "        self.next = None\n",
    "    \n",
    "    def __str__(self):\n",
    "        return str(self.val)\n",
    "\n",
    "class SinglyLinkedList:\n",
    "    def __init__(self):\n",
    "        # Creating Empty List\n",
    "        self.head = None\n",
    "        self.next = None\n",
    "    \n",
    "    def append_item(self, item):\n",
    "        #Append items on the list\n",
    "        \n",
    "        if not isinstance(item, Node):\n",
    "            item = Node(item)\n",
    "\n",
    "        if self.head is None:\n",
    "            self.head = item\n",
    "            self.next = item.next\n",
    "        else:\n",
    "            curr_node = self.head\n",
    "            #print(curr_node.val, curr_node.next)\n",
    "            while curr_node.next is not None:\n",
    "                curr_node = curr_node.next\n",
    "            curr_node.next = item\n",
    "\n",
    "    \n",
    "    # generaally used for custom representation of object for customer\n",
    "    def __str__(self):\n",
    "        \"outputs the list (the value of the node, actually)\"\n",
    "        \n",
    "        node = self.head\n",
    "        list_rep = []\n",
    "        \n",
    "        while node is not None:\n",
    "            list_rep.append(node.val)\n",
    "            # jump to the linked node\n",
    "            node = node.next\n",
    "            \n",
    "        return str(list_rep)\n",
    "    \n",
    "    def print_given_head(self, head):\n",
    "        \n",
    "        list_rep = []\n",
    "        \n",
    "        while head is not None:\n",
    "            list_rep.append(head.val)\n",
    "            # jump to the linked node\n",
    "            head = head.next\n",
    "            \n",
    "        return list_rep\n",
    "    \n",
    "link_list = SinglyLinkedList()  \n",
    "for num in range(1,11):\n",
    "    node = Node(num)\n",
    "    link_list.append_item(node)\n",
    "print(link_list)"
   ]
  },
  {
   "cell_type": "markdown",
   "metadata": {},
   "source": [
    "### TWO POINTER APPROACH\n",
    "The simplest way to solve this problem is to create two pointers fast and slow. \n",
    "Both this pointers will point to the start of the head in the beginning. \n",
    "Then we will start to increment the fast pointer by 2 nodes and the slow pointer by 1 node.\n",
    "When the fast pointer will reach the end (value None) of the list then slow pointer will reach till the middle of the list and we will get our result.\n",
    "\n",
    "The check :: ***while fastPtr != None and fastPtr.next != None***  is important for loop termination"
   ]
  },
  {
   "cell_type": "code",
   "execution_count": 91,
   "metadata": {},
   "outputs": [],
   "source": [
    "def middleNode(head):\n",
    "    if head == None:\n",
    "        return head\n",
    "    \n",
    "    fastPtr = head\n",
    "    slowPtr = head\n",
    "        \n",
    "    while fastPtr is not None and fastPtr.next is not None:\n",
    "        slowPtr = slowPtr.next\n",
    "        #print(slowPtr)\n",
    "        fastPtr = fastPtr.next.next\n",
    "        #print(fastPtr)\n",
    "        \n",
    "    return slowPtr"
   ]
  },
  {
   "cell_type": "code",
   "execution_count": 92,
   "metadata": {},
   "outputs": [
    {
     "data": {
      "text/plain": [
       "[6, 7, 8, 9, 10]"
      ]
     },
     "execution_count": 92,
     "metadata": {},
     "output_type": "execute_result"
    }
   ],
   "source": [
    "mid = middleNode(link_list.head)\n",
    "link_list.print_given_head(mid)"
   ]
  },
  {
   "cell_type": "code",
   "execution_count": null,
   "metadata": {},
   "outputs": [],
   "source": []
  }
 ],
 "metadata": {
  "kernelspec": {
   "display_name": "Python 3",
   "language": "python",
   "name": "python3"
  },
  "language_info": {
   "codemirror_mode": {
    "name": "ipython",
    "version": 3
   },
   "file_extension": ".py",
   "mimetype": "text/x-python",
   "name": "python",
   "nbconvert_exporter": "python",
   "pygments_lexer": "ipython3",
   "version": "3.7.7"
  }
 },
 "nbformat": 4,
 "nbformat_minor": 4
}
