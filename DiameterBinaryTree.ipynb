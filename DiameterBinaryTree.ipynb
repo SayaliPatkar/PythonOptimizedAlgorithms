{
 "cells": [
  {
   "cell_type": "markdown",
   "metadata": {},
   "source": [
    "# Problem Statement\n",
    "Given a binary tree, you need to compute the length of the diameter of the tree. \n",
    "\n",
    "The diameter of a binary tree is the length of the longest path between any two nodes in a tree. \n",
    "\n",
    "This path may or may not pass through the root.\n",
    "\n",
    "Example:\n",
    "Given a binary tree\n",
    "![IDEA](bin_tree.png) \n",
    "Return 3, which is the length of the path [4,2,1,3] or [5,2,1,3].\n",
    "\n",
    "Note: The length of path between two nodes is represented by the number of edges between them."
   ]
  },
  {
   "cell_type": "code",
   "execution_count": 3,
   "metadata": {},
   "outputs": [],
   "source": [
    "class TreeNode:\n",
    "    def __init__(self, val=0, left=None, right=None):\n",
    "        self.val = val\n",
    "        self.left = left\n",
    "        self.right = right\n",
    "root = TreeNode(1)  \n",
    "root.left = TreeNode(2)  \n",
    "root.right = TreeNode(3)  \n",
    "root.left.left = TreeNode(4)  \n",
    "root.left.right = TreeNode(5)  \n",
    "  "
   ]
  },
  {
   "cell_type": "markdown",
   "metadata": {},
   "source": [
    "Intuition:\n",
    "\n",
    "    Any path can be written as two arrows (in different directions) from some node, where an arrow is a path that starts at some node and only travels down to child nodes.\n",
    "\n",
    "    If we knew the maximum length arrows L, R for each child, then the best path touches L + R + 1 nodes.\n",
    "\n",
    "Algorithm:\n",
    "\n",
    "    Let's calculate the depth of a node in the usual way: max(depth of node.left, depth of node.right) + 1. While we do, a path \"through\" this node uses 1 + (depth of node.left) + (depth of node.right) nodes. Let's search each node and remember the highest number of nodes used in some path. The desired length is 1 minus this number."
   ]
  },
  {
   "cell_type": "code",
   "execution_count": 6,
   "metadata": {},
   "outputs": [
    {
     "name": "stdout",
     "output_type": "stream",
     "text": [
      "3\n"
     ]
    }
   ],
   "source": [
    "# Definition for a binary tree node.\n",
    "\n",
    "class Solution:\n",
    "    def diameterOfBinaryTree(self, root: TreeNode) -> int:\n",
    "        \"\"\"\n",
    "        :type root: TreeNode\n",
    "        :rtype: int\n",
    "        \"\"\"\n",
    "        def depth(root):\n",
    "            if not root:\n",
    "                return 0\n",
    "            left = depth(root.left)\n",
    "            right = depth(root.right)\n",
    "            self.ans = max( left+right+1 , self.ans)\n",
    "            return max(left, right) + 1\n",
    "        self.ans = 1\n",
    "        depth(root)\n",
    "\n",
    "        return  self.ans-1\n",
    "sol = Solution()\n",
    "print(sol.diameterOfBinaryTree(root))"
   ]
  },
  {
   "cell_type": "code",
   "execution_count": null,
   "metadata": {},
   "outputs": [],
   "source": []
  }
 ],
 "metadata": {
  "kernelspec": {
   "display_name": "Python 3",
   "language": "python",
   "name": "python3"
  },
  "language_info": {
   "codemirror_mode": {
    "name": "ipython",
    "version": 3
   },
   "file_extension": ".py",
   "mimetype": "text/x-python",
   "name": "python",
   "nbconvert_exporter": "python",
   "pygments_lexer": "ipython3",
   "version": "3.7.7"
  }
 },
 "nbformat": 4,
 "nbformat_minor": 4
}
