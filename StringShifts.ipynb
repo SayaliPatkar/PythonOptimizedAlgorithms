{
 "cells": [
  {
   "cell_type": "markdown",
   "metadata": {},
   "source": [
    "# Problem Statement\n",
    "You are given a string s containing lowercase English letters, and a matrix shift, \n",
    "```\n",
    "where shift[i] = [direction, amount]:\n",
    "direction can be 0 (for left shift) or 1 (for right shift).\n",
    "amount is the amount by which string s is to be shifted.\n",
    "```\n",
    "A left shift by 1 means remove the first character of s and append it to the end.\n",
    "Similarly, a right shift by 1 means remove the last character of s and add it to the beginning.\n",
    "Return the final string after all operations.\n",
    "\n",
    "Example 1:\n",
    "```\n",
    "Input: s = \"abc\", shift = [[0,1],[1,2]]\n",
    "Output: \"cab\"\n",
    "Explanation: \n",
    "[0,1] means shift to left by 1. \"abc\" -> \"bca\"\n",
    "[1,2] means shift to right by 2. \"bca\" -> \"cab\"\n",
    "```\n",
    "Example 2:\n",
    "```\n",
    "Input: s = \"abcdefg\", shift = [[1,1],[1,1],[0,2],[1,3]]\n",
    "Output: \"efgabcd\"\n",
    "Explanation:  \n",
    "[1,1] means shift to right by 1. \"abcdefg\" -> \"gabcdef\"\n",
    "[1,1] means shift to right by 1. \"gabcdef\" -> \"fgabcde\"\n",
    "[0,2] means shift to left by 2. \"fgabcde\" -> \"abcdefg\"\n",
    "[1,3] means shift to right by 3. \"abcdefg\" -> \"efgabcd\"\n",
    "```\n",
    "Constraints:\n",
    "    1. 1 <= s.length <= 100\n",
    "    2. s only contains lower case English letters.\n",
    "    3. 1 <= shift.length <= 100\n",
    "    4. shift[i].length == 2\n",
    "    5. 0 <= shift[i][0] <= 1\n",
    "    6. 0 <= shift[i][1] <= 100"
   ]
  },
  {
   "cell_type": "code",
   "execution_count": 1,
   "metadata": {},
   "outputs": [],
   "source": [
    "s = \"abcdefg\"\n",
    "shift = [[1,1],[1,1],[0,2],[1,3]]"
   ]
  },
  {
   "cell_type": "code",
   "execution_count": 4,
   "metadata": {},
   "outputs": [
    {
     "name": "stdout",
     "output_type": "stream",
     "text": [
      "Wall time: 0 ns\n",
      "efgabcd\n"
     ]
    }
   ],
   "source": [
    "def stringShift(s, shift):\n",
    "    final_shift = 0\n",
    "    for opt in shift:\n",
    "        if opt[0] == 0:\n",
    "            final_shift -= opt[1] \n",
    "        else:\n",
    "            final_shift += opt[1]\n",
    "    if final_shift == 0:\n",
    "        return s\n",
    "    elif final_shift > 0:\n",
    "        temp1 = s[len(s)-final_shift:len(s)]\n",
    "        temp2 =s[0:len(s)-final_shift]\n",
    "        return temp1+temp2       \n",
    "    else :\n",
    "        final_shift = len(s)+final_shift\n",
    "        temp1 = s[len(s)-final_shift:len(s)]\n",
    "        temp2 =s[0:len(s)-final_shift]\n",
    "        return temp1+temp2\n",
    "    \n",
    "%time s = stringShift(s, shift)\n",
    "print(s)"
   ]
  },
  {
   "cell_type": "code",
   "execution_count": null,
   "metadata": {},
   "outputs": [],
   "source": []
  }
 ],
 "metadata": {
  "kernelspec": {
   "display_name": "Python 3",
   "language": "python",
   "name": "python3"
  },
  "language_info": {
   "codemirror_mode": {
    "name": "ipython",
    "version": 3
   },
   "file_extension": ".py",
   "mimetype": "text/x-python",
   "name": "python",
   "nbconvert_exporter": "python",
   "pygments_lexer": "ipython3",
   "version": "3.7.7"
  }
 },
 "nbformat": 4,
 "nbformat_minor": 4
}
