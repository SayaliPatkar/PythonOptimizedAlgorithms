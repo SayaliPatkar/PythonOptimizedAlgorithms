{
 "cells": [
  {
   "cell_type": "markdown",
   "metadata": {},
   "source": [
    "# Problem Statement\n",
    "Given an array of strings, group anagrams together.\n",
    "\n",
    "Example 1:\n",
    "```\n",
    "Input: [\"eat\", \"tea\", \"tan\", \"ate\", \"nat\", \"bat\"],\n",
    "Output:\n",
    "[\n",
    "  [\"ate\",\"eat\",\"tea\"],\n",
    "  [\"nat\",\"tan\"],\n",
    "  [\"bat\"]\n",
    "]\n",
    "```\n"
   ]
  },
  {
   "cell_type": "code",
   "execution_count": 22,
   "metadata": {},
   "outputs": [],
   "source": [
    "import timeit\n",
    "from collections import defaultdict  "
   ]
  },
  {
   "cell_type": "code",
   "execution_count": 28,
   "metadata": {},
   "outputs": [],
   "source": [
    "arr_input= [\"eat\", \"tea\", \"tan\", \"ate\", \"nat\", \"bat\", \"cat\", \"dog\", \"tac\", \"god\", \"act\", \"abed\",\"bade\", \"bead\", \"abet\", \"beat\", \"beta\", \"abets\", \"baste\", \"betas\", \"beast\", \"beats\", \"abut\", \"tabu\", \"tuba\", \"acme\", \"came\", \"mace\", \"acre\",\"care\", \"race\", \"CARS\", \"REPAID\", \"DUES\", \"NOSE\", \"SIGNED\", \"LANE\",\"PAIRED\", \"ARCS\", \"GRAB\", \"USED\", \"ONES\", \"BRAG\", \"SUED\", \"LEAN\", \"SCAR\", \"DESIGN\"]"
   ]
  },
  {
   "cell_type": "code",
   "execution_count": 29,
   "metadata": {},
   "outputs": [
    {
     "name": "stdout",
     "output_type": "stream",
     "text": [
      "Wall time: 0 ns\n",
      "[['eat', 'tea', 'ate'], ['tan', 'nat'], ['bat'], ['cat', 'tac', 'act'], ['dog', 'god'], ['abed', 'bade', 'bead'], ['abet', 'beat', 'beta'], ['abets', 'baste', 'betas', 'beast', 'beats'], ['abut', 'tabu', 'tuba'], ['acme', 'came', 'mace'], ['acre', 'care', 'race'], ['CARS', 'ARCS', 'SCAR'], ['REPAID', 'PAIRED'], ['DUES', 'USED', 'SUED'], ['NOSE', 'ONES'], ['SIGNED', 'DESIGN'], ['LANE', 'LEAN'], ['GRAB', 'BRAG']]\n"
     ]
    }
   ],
   "source": [
    "def groupAnagrams(strs):\n",
    "    group_dict= {}\n",
    "    for word in strs:\n",
    "        root = \"\".join(sorted(word))\n",
    "        if root in group_dict:\n",
    "            group_dict[root].append(word)\n",
    "        else:\n",
    "            group_dict[root] = [word]\n",
    "    dict_list = []\n",
    "    for key in group_dict:\n",
    "        dict_list.append(group_dict[key])\n",
    "    return dict_list\n",
    "\n",
    "%time ana_group = groupAnagrams(arr_input)\n",
    "print(ana_group)        "
   ]
  },
  {
   "cell_type": "code",
   "execution_count": 30,
   "metadata": {},
   "outputs": [
    {
     "name": "stdout",
     "output_type": "stream",
     "text": [
      "Wall time: 0 ns\n",
      "[['eat', 'tea', 'ate'], ['tan', 'nat'], ['bat'], ['cat', 'tac', 'act'], ['dog', 'god'], ['abed', 'bade', 'bead'], ['abet', 'beat', 'beta'], ['abets', 'baste', 'betas', 'beast', 'beats'], ['abut', 'tabu', 'tuba'], ['acme', 'came', 'mace'], ['acre', 'care', 'race'], ['CARS', 'ARCS', 'SCAR'], ['REPAID', 'PAIRED'], ['DUES', 'USED', 'SUED'], ['NOSE', 'ONES'], ['SIGNED', 'DESIGN'], ['LANE', 'LEAN'], ['GRAB', 'BRAG']]\n"
     ]
    }
   ],
   "source": [
    "def groupAnagrams(strs):\n",
    "    group_dict= defaultdict(list)\n",
    "    for word in strs:\n",
    "        root = \"\".join(sorted(word))\n",
    "        group_dict[root].append(word)\n",
    "    dict_list = []\n",
    "    for key in group_dict:\n",
    "        dict_list.append(group_dict[key])\n",
    "    return dict_list\n",
    "\n",
    "%time ana_group = groupAnagrams(arr_input)\n",
    "print(ana_group)    "
   ]
  },
  {
   "cell_type": "code",
   "execution_count": null,
   "metadata": {},
   "outputs": [],
   "source": []
  }
 ],
 "metadata": {
  "kernelspec": {
   "display_name": "Python 3",
   "language": "python",
   "name": "python3"
  },
  "language_info": {
   "codemirror_mode": {
    "name": "ipython",
    "version": 3
   },
   "file_extension": ".py",
   "mimetype": "text/x-python",
   "name": "python",
   "nbconvert_exporter": "python",
   "pygments_lexer": "ipython3",
   "version": "3.7.7"
  }
 },
 "nbformat": 4,
 "nbformat_minor": 4
}
