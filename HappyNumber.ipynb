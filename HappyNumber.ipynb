{
 "cells": [
  {
   "cell_type": "markdown",
   "metadata": {},
   "source": [
    "# Problem Statement\n",
    "Write an algorithm to determine if a number n is \"happy\".\n",
    "\n",
    "A happy number is a number defined by the following process: Starting with any positive integer, replace the number by the sum of the squares of its digits, and repeat the process until the number equals 1 (where it will stay), or it loops endlessly in a cycle which does not include 1. Those numbers for which this process ends in 1 are happy numbers.\n",
    "\n",
    "Return True if n is a happy number, and False if not.\n",
    "\n",
    "Example:\n",
    "<code>\n",
    "Input: 19\n",
    "Output: true\n",
    "Explanation: \n",
    "1<sup>2</sup> + 9<sup>2</sup> = 82\n",
    "8<sup>2</sup> + 2<sup>2</sup> = 68\n",
    "6<sup>2</sup> + 8<sup>2</sup> = 100\n",
    "1<sup>2</sup> + 0<sup>2</sup> + 0<sup>2</sup> = 1\n",
    "</code>"
   ]
  },
  {
   "cell_type": "code",
   "execution_count": 2,
   "metadata": {},
   "outputs": [],
   "source": [
    "class Solution:\n",
    "    def solve(self, n, visited):\n",
    "        if n in visited:\n",
    "            return False\n",
    "        visited.append(n)\n",
    "        digit_list = []\n",
    "        while n > 0:\n",
    "            digit_list.append(n%10)\n",
    "            n = int(n/10)\n",
    "        happy_count =  sum(x*x for x in digit_list)\n",
    "        if happy_count == 1:\n",
    "                return True\n",
    "        return self.solve(happy_count, visited)\n",
    "    def isHappy(self, n: int) -> bool:\n",
    "        return self.solve(n, [])"
   ]
  },
  {
   "cell_type": "code",
   "execution_count": 4,
   "metadata": {},
   "outputs": [
    {
     "name": "stdout",
     "output_type": "stream",
     "text": [
      "True\n"
     ]
    }
   ],
   "source": [
    "sol = Solution()\n",
    "happy = sol.isHappy(123456)\n",
    "print(happy)"
   ]
  },
  {
   "cell_type": "code",
   "execution_count": null,
   "metadata": {},
   "outputs": [],
   "source": []
  }
 ],
 "metadata": {
  "kernelspec": {
   "display_name": "Python 3",
   "language": "python",
   "name": "python3"
  },
  "language_info": {
   "codemirror_mode": {
    "name": "ipython",
    "version": 3
   },
   "file_extension": ".py",
   "mimetype": "text/x-python",
   "name": "python",
   "nbconvert_exporter": "python",
   "pygments_lexer": "ipython3",
   "version": "3.7.7"
  }
 },
 "nbformat": 4,
 "nbformat_minor": 4
}
