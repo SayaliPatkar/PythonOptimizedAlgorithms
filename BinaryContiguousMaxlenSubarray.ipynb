{
 "cells": [
  {
   "cell_type": "markdown",
   "metadata": {},
   "source": [
    "# Problem Statement\n",
    "Given a binary array, find the maximum length of a contiguous subarray with equal number of 0 and 1.\n",
    "\n",
    "Example 1:\n",
    "```\n",
    "Input: [0,1]\n",
    "Output: 2\n",
    "Explanation: [0, 1] is the longest contiguous subarray with equal number of 0 and 1.\n",
    "```\n",
    "\n",
    "Example 2:\n",
    "```\n",
    "Input: [0,1,0]\n",
    "Output: 2\n",
    "Explanation: [0, 1] (or [1, 0]) is a longest contiguous subarray with equal number of 0 and 1.\n",
    "```\n",
    "\n",
    "Imp : Initially I addressed this problem as alternate 0 and 1 combination, the longest you can go. However from test cases it's clear that alternate 0 and 1s is not the necessary for fulfilling the requirements. For instance see Example 3 and Example 3, giving the 'real' sense of the conditional requirements.\n",
    "\n",
    "Example 3:\n",
    "```\n",
    "Input: [0,1,1,0,1,1,1,0]\n",
    "Output: 4\n",
    "Explanation: [0, 1, 1, 0] is a longest contiguous subarray with equal number of 0 and 1.\n",
    "```\n",
    "\n",
    "Example 4:\n",
    "```\n",
    "Input: [0,0,1,1,1,0,0]\n",
    "Output: 6\n",
    "Explanation: [0, 1, 1, 1, 0, 0] is a longest contiguous subarray with equal number of 0 and 1.\n",
    "```\n",
    "Note: The length of the given binary array will not exceed 50,000."
   ]
  },
  {
   "cell_type": "code",
   "execution_count": 34,
   "metadata": {},
   "outputs": [],
   "source": [
    "import sys\n",
    "import timeit"
   ]
  },
  {
   "cell_type": "code",
   "execution_count": 35,
   "metadata": {},
   "outputs": [],
   "source": [
    "in_arr = [0,1,1,0,0,0,0,1,0,1,0,1,1,0,0,0,0,1,1,1,0,0,1,1,1,0,1,1,0,1,1,0,1,0,1,0,1,0,1,0,0,0,0,1,1,1,0,1,0,1,1,1,0,0,1,0,0,1,1,0,1,0,0,1,1,0,0,0,1,0,1,1,1,0,1,0,1,1,1,1,1,1,1,1,1,0,0,0,1,0,0,0,1,0,0,0,1,1,0,1,1,0,1,1,1,1,0,1,0,0,1,0,0,1,1,0,1,1,0,1,0,0,1,0,0,1,0,1,0,0,1,0,1,1,0,1,0,0,0,1,0,1,1,0,1,0,0,1,0,1,1,1,1,1,1,0,0,0,1,1,0,0,0,0,0,0,1,1,1,1,1,0,1,0,0,1,0,1,0,0,0,0,1,1,1,0,1,0,0,1,1,1,0,1,1,1,1,1,1,0,1,1,1,1,1,0,1,1,0,0,1,0,1,0,0,1,0,1,1,1,0,0,0,0,1,1,1,0,0,1,1,1,1,1,0,1,1,0,0,1,0,1,1,0,0,1,0,1,1,1,1,0,0,0,0,0,1,1,0,1,1,1,1,0,1,1,0,0,0,1,0,0,1,0,1,1,0,0,0,0,0,0,0,0,1,1,1,0,0,0,1,0,0,0,0,1,0,1,0,1,1,1,0,1,1,0,1,0,1,1,0,0,0,1,0,0,0,0,0,1,0,1,0,0,1,0,0,0,1,1,0,1,1,1,0,1,1,0,1,1,0,1,1,0,1,0,0,0,0,1,1,0,1,0,1,1,0,1,0,0,1,1,0,0,0,0,1,1,0,1,1,1,0,1,0,1,1,0,0,1,0,1,0,1,0,0,1,0,1,0,0,0,1,0,1,1,1,1,1,0,0,0,0,0,0,0,0,0,0,1,1,1,1,1,0,0,1,1,1,1,1,0,1,0,1,1,0,1,0,0,1,0,1,1,0,1,0,1,1,0,1,0,0,1,0,1,0,0,1,1,1,0,1,1,1,1,0,0,1,0,1,1,1,1,0,1,1,0,1,1,0,0,0,0,0,0,0,1,1,0,1,0,0,0,0,0,1,0,0,0,0,0,1,0,1,0,1,1,1,0,0,1,0,0,0,0,0,1,1,1,0,0,1,0,1,1,1,1,1,1,0,1,1,1,1,0,1,0,1,0,1,0,1,1,1,0,1,1,1,0,0,0,1,1,1,0,0,0,0,0,0,1,0,1,1,0,0,0,1,1,0,0,1,0,0,1,0,1,1,0,0,1,0,1,0,1,0,1,0,1,0,1,0,1,1,1,1,1,1,1,0,0,1,1,0,1,1,1,0,1,1,1,0,0,0,1,1,0,1,0,1,0,0,0,0,1,1,1,0,1,1,1,1,1,0,0,0,1,1,1,1,0,1,1,1,1,1,0,1,1,1,0,0,0,0,0,1,0,1,0,1,1,1,0,1,1,1,0,1,0,0,1,1,1,1,1,1,0,1,0,0,0,1,0,1,1,1,1,1,0,1,1,0,0,0,1,1,1,1,0,0,0,0,1,0,1,1,0,1,1,0,1,0,1,0,0,1,1,1,1,0,1,0,0,1,0,0,0,0,1,1,1,0,1,1,0,0,0,1,0,0,1,0,0,0,0,1,1,0,0,0,0,0,1,1,0,0,0,0,0,0,0,1,1,1,1,1,1,1,0,0,1,0,1,0,1,1,1,1,0,0,1,0,1,1,1,1,0,0,0,0,1,0,1,1,1,0,0,1,1,1,1,1,1,1,0,1,1,1,1,1,0,0,1,1,0,0,0,0,1,1,1,0,1,1,0,1,0,0,0,0,0,0,0,1,1,1,1,0,0,1,1,0,1,1,1,1,0,1,0,1,1,0,1,0,1,1,0,1,1,0,1,0,0,0,0,1,1,1,1,0,1,0,0,0,0,1,0,1,0,0,0,0,0,1,1,0,1,0,0,1,1,0,1,0,1,1,1,1,1,0,1,0,0,1,0,0,1,0,1,0,1,0,0,1,0,1,0,1,1,0,0,0,0,1,1,0,0,0,1,1,0,0,1,0,0,0,1,1,1,1,0,1,1,0,1,0,0,0,0,0,1,1,1,0,0,0,0,1,0,0,0,0,1,1,1,0,1,0,1,1,0,0,0,0,0,0,0,0,0,1,1,0,0,0,0,0,0,0,1,0,1,0,1,1,1,1,0,0,0,1,0,1,0,0,1,0,0,0,1]"
   ]
  },
  {
   "cell_type": "markdown",
   "metadata": {},
   "source": [
    "### BRUTE FORCE ALGORITHM\n",
    "Get all possible subarrays from length 1 to length n. Find if number of zeros and ones in them are equal\n",
    "\n",
    "    1. For binary problems where some eqality condition needs to be followed, it is always prudent to replace all 0 by -1. \n",
    "    This saves us from keeping separate counts of zeros and ones. and we just look for longest array with sum 0\n",
    "    2. Instead if iterating over all possible sublengths, we iterate over sublengths with even number of elements. \n",
    "    Starting from max going to min\n",
    "    3. Iterrate over all possible start points\n",
    "    4. Validate if array fit for given start and given length\n",
    "    5. Find sum of subarray elements\n",
    "    6. Terminate as find length which satisfies the condition\n",
    "Due to highly nested structure time complexity is O(n^3)\n"
   ]
  },
  {
   "cell_type": "code",
   "execution_count": 36,
   "metadata": {},
   "outputs": [
    {
     "name": "stdout",
     "output_type": "stream",
     "text": [
      "Wall time: 121 ms\n",
      "794\n"
     ]
    }
   ],
   "source": [
    "def getMaxContagious(in_arr):\n",
    "    len_in_arr = len(in_arr)\n",
    "    in_arr = [-1 if num==0 else num for num in in_arr]\n",
    "    even_max = len_in_arr if len_in_arr%2==0 else len_in_arr-1\n",
    "    for curr_len in range(even_max,-2,-2):\n",
    "        for start in range(len_in_arr):\n",
    "            if start+curr_len <= len_in_arr:\n",
    "                #print(curr_len)\n",
    "                #print(start)\n",
    "                #print(in_arr[start:start+curr_len])\n",
    "                sum_curr = sum(in_arr[start:start+curr_len])\n",
    "                if sum_curr == 0:\n",
    "                    return curr_len\n",
    "    return curr_len\n",
    "            \n",
    "                \n",
    "%time max_n = getMaxContagious(in_arr)\n",
    "print(max_n)"
   ]
  },
  {
   "cell_type": "markdown",
   "metadata": {},
   "source": [
    "### USING EXTRA DICTIONARY\n",
    "Use dictionary with keys as encountered sum() and value as first index where this sum_key was encountered\n",
    "at index = -1 sum was 0 :: sum_dict = {0:-1}\n",
    "\n",
    "    1. For binary problems where some eqality condition needs to be followed, it is always prudent to replace all 0 by -1. \n",
    "       This saves us from keeping separate counts of zeros and ones.\n",
    "    2. Keep on adding current element in curr_sum variable \n",
    "    3. Sum value already exists in dictonary means form that original index we encountered same number of 1s and -1s\n",
    "       (since -1 will cancel 1). So now its time to update max_len\n",
    "    4. If we concounter new sum value, add new key to our sum dict\n",
    "    \n",
    "    \n",
    "    HERE IDX 1 AND IDX 3 ATTRIBUTE SAME SUM -1\n",
    "    POINTS A, B AND C ATTRIBUTE SAME SUM -2\n",
    "    THOUGH LONGEST DISTANCE IS IDX_C - IDX_A    \n",
    "![IDEA](Contiguous.png)\n",
    "\n",
    "\n",
    "Due to highly nested structure time complexity is O(n). \n",
    "\n",
    "Space complexity O(n), as we use extra dict variable.\n"
   ]
  },
  {
   "cell_type": "code",
   "execution_count": 37,
   "metadata": {},
   "outputs": [
    {
     "name": "stdout",
     "output_type": "stream",
     "text": [
      "Wall time: 0 ns\n",
      "794\n"
     ]
    }
   ],
   "source": [
    "def getMaxContagious(in_arr):\n",
    "    len_in_arr = len(in_arr)\n",
    "    sum_dict = {0:-1}\n",
    "    current_sum = 0\n",
    "    max_len = 0\n",
    "    for idx in range(len_in_arr):\n",
    "        num = in_arr[idx] if in_arr[idx]==1 else -1\n",
    "        current_sum += num\n",
    "        if current_sum in sum_dict:\n",
    "            max_len = max(max_len, idx-sum_dict[current_sum])\n",
    "        else:\n",
    "            sum_dict[current_sum] = idx\n",
    "    return max_len\n",
    "            \n",
    "                \n",
    "%time max_n = getMaxContagious(in_arr)\n",
    "print(max_n)"
   ]
  },
  {
   "cell_type": "code",
   "execution_count": null,
   "metadata": {},
   "outputs": [],
   "source": []
  }
 ],
 "metadata": {
  "kernelspec": {
   "display_name": "Python 3",
   "language": "python",
   "name": "python3"
  },
  "language_info": {
   "codemirror_mode": {
    "name": "ipython",
    "version": 3
   },
   "file_extension": ".py",
   "mimetype": "text/x-python",
   "name": "python",
   "nbconvert_exporter": "python",
   "pygments_lexer": "ipython3",
   "version": "3.7.7"
  }
 },
 "nbformat": 4,
 "nbformat_minor": 4
}
